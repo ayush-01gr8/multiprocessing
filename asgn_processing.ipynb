{
 "cells": [
  {
   "cell_type": "code",
   "execution_count": null,
   "id": "916baef2-c818-4970-ad9f-bca538592599",
   "metadata": {},
   "outputs": [],
   "source": [
    "Q1. What is multiprocessing in python? Why is it useful?"
   ]
  },
  {
   "cell_type": "code",
   "execution_count": null,
   "id": "4df2a66c-64a9-4d01-b384-ec6283e2bb01",
   "metadata": {},
   "outputs": [],
   "source": [
    "Multiprocessing in Python refers to the technique of using multiple processes to achieve parallel execution of tasks. Unlike multithreading, \n",
    "where threads share the same memory space, multiprocessing involves separate memory spaces for each process. This allows processes to\n",
    "run independently, making use of multiple processor cores for true parallelism.\n",
    "\n",
    "Advantages of Multiprocessing:\n",
    "\n",
    "True Parallelism: Unlike multithreading, where Python's Global Interpreter Lock (GIL) can limit the concurrency of threads, multiprocessing \n",
    "allows you to achieve true parallelism. Each process runs in its own interpreter and can fully utilize multiple CPU cores.\n",
    "\n",
    "Performance Improvement: Multiprocessing is particularly useful for CPU-bound tasks, where the program spends a significant amount of time\n",
    "\n",
    "performing computations. By distributing the workload across multiple processes, you can potentially achieve faster execution times.\n",
    "\n",
    "Isolation: Since each process has its own memory space, there's less risk of data corruption due to shared memory access. This can simplify\n",
    "programming by reducing the chances of race conditions and other concurrency-related bugs.\n",
    "\n",
    "Resource Sharing: Multiprocessing allows you to share data between processes using IPC mechanisms. This can be helpful for communication\n",
    "and coordination between different parts of an application."
   ]
  },
  {
   "cell_type": "code",
   "execution_count": null,
   "id": "6e6e63f8-6e70-4147-9bf2-87ed910efa36",
   "metadata": {},
   "outputs": [],
   "source": [
    "Q2. What are the differences between multiprocessing and multithreading?"
   ]
  },
  {
   "cell_type": "code",
   "execution_count": null,
   "id": "3f68b5c3-2b3e-48de-8732-2a8966f404f1",
   "metadata": {},
   "outputs": [],
   "source": [
    "1. Isolation:\n",
    "\n",
    "Multiprocessing: Each process has its own memory space, allowing for better isolation between processes. This reduces the risk of data\n",
    "corruption due to shared memory access and simplifies programming in terms of avoiding race conditions.\n",
    "\n",
    "Multithreading: Threads within the same process share memory space, which can lead to potential data corruption or race conditions if\n",
    "proper synchronization mechanisms are not used.\n",
    "\n",
    "2. Parallelism:\n",
    "\n",
    "Multiprocessing: Achieves true parallelism, as each process runs in its own interpreter and can fully utilize multiple CPU cores. This\n",
    "makes multiprocessing suitable for CPU-bound tasks.\n",
    "\n",
    "Multithreading: Python's Global Interpreter Lock (GIL) limits true parallelism, allowing only one thread to execute Python bytecode at a time.\n",
    "This makes multithreading more suitable for I/O-bound tasks.\n",
    "\n",
    "3. Performance:\n",
    "\n",
    "Multiprocessing: Generally provides better performance for CPU-bound tasks due to the ability to utilize multiple CPU cores effectively.\n",
    "\n",
    "Multithreading: Might not provide significant performance improvements for CPU-bound tasks due to the GIL limitation. However, it can be\n",
    "useful for I/O-bound tasks, where the bottleneck is waiting for external resources.\n",
    "\n",
    "4. Resource Sharing:\n",
    "\n",
    "Multiprocessing: Uses inter-process communication (IPC) mechanisms like pipes, queues, and shared memory for communication and data sharing\n",
    "between processes.\n",
    "\n",
    "Multithreading: Shares memory space, making data sharing between threads more efficient, but it requires careful synchronization mechanisms\n",
    "to avoid race conditions."
   ]
  },
  {
   "cell_type": "code",
   "execution_count": null,
   "id": "08ade747-b54d-45f7-af04-11478c368d25",
   "metadata": {},
   "outputs": [],
   "source": [
    "Q3. Write a python code to create a process using the multiprocessing module."
   ]
  },
  {
   "cell_type": "code",
   "execution_count": 1,
   "id": "ce2f2b06-3195-4a57-862b-d7c3c27b9a41",
   "metadata": {},
   "outputs": [
    {
     "name": "stdout",
     "output_type": "stream",
     "text": [
      "Main process starting the worker process\n",
      "Worker process Process 1 started\n",
      "Hello from worker process Process 1\n",
      "Worker process Process 1 finished\n",
      "Main process waiting for the worker process to finish\n",
      "Main process finished\n"
     ]
    }
   ],
   "source": [
    "import multiprocessing\n",
    "\n",
    "def worker_function(name):\n",
    "    print(f\"Worker process {name} started\")\n",
    "    print(f\"Hello from worker process {name}\")\n",
    "    print(f\"Worker process {name} finished\")\n",
    "\n",
    "if __name__ == \"__main__\":\n",
    "    process = multiprocessing.Process(target=worker_function, args=(\"Process 1\",))\n",
    "\n",
    "    print(\"Main process starting the worker process\")\n",
    "    process.start()\n",
    "\n",
    "    print(\"Main process waiting for the worker process to finish\")\n",
    "    process.join()\n",
    "\n",
    "    print(\"Main process finished\")\n"
   ]
  },
  {
   "cell_type": "code",
   "execution_count": null,
   "id": "0daa3d53-2a99-4f86-9b7f-8eff62d32f1d",
   "metadata": {},
   "outputs": [],
   "source": [
    "Q4. What is a multiprocessing pool in python? Why is it used?"
   ]
  },
  {
   "cell_type": "code",
   "execution_count": null,
   "id": "572de41e-6c6c-48d4-900f-d9b35a4bfe38",
   "metadata": {},
   "outputs": [],
   "source": [
    "A multiprocessing pool in Python is a mechanism provided by the multiprocessing module that allows you to create a pool of worker processes\n",
    "to distribute tasks across them. It simplifies the management of multiple processes and helps achieve parallelism by utilizing multiple CPU\n",
    "cores efficiently.\n",
    "\n",
    "A pool of worker processes is particularly useful when you have a set of tasks that can be executed independently and concurrently. Instead\n",
    "of manually creating and managing individual processes, a pool abstracts the process management and allows you to submit tasks to the pool,\n",
    "which then assigns them to available worker processes.\n"
   ]
  },
  {
   "cell_type": "code",
   "execution_count": null,
   "id": "c520c863-837e-49d8-b69b-930af1de36ae",
   "metadata": {},
   "outputs": [],
   "source": [
    "Q5. How can we create a pool of worker processes in python using the multiprocessing module?"
   ]
  },
  {
   "cell_type": "code",
   "execution_count": null,
   "id": "ee3401c2-8468-4eab-89e1-093097475b17",
   "metadata": {},
   "outputs": [],
   "source": [
    "\n",
    "To create a pool of worker processes in Python using the multiprocessing module, you can use the multiprocessing.Pool class.\n",
    "Here's a step-by-step guide on how to create and use a multiprocessing pool:\n",
    "\n",
    "Import the multiprocessing module.\n",
    "Define a function that represents the task you want to parallelize.\n",
    "Create an instance of multiprocessing.Pool with the desired number of processes.\n",
    "Use pool methods to distribute and manage tasks.\n",
    "Close and join the pool to ensure proper cleanup"
   ]
  },
  {
   "cell_type": "code",
   "execution_count": 2,
   "id": "adc49a4c-46d0-49f9-8ed2-8b6bf7ceb643",
   "metadata": {},
   "outputs": [
    {
     "name": "stdout",
     "output_type": "stream",
     "text": [
      "Squared results: [1, 4, 9, 16, 25]\n"
     ]
    }
   ],
   "source": [
    "import multiprocessing\n",
    "\n",
    "# Step 2: Define the task function\n",
    "def square(number):\n",
    "    return number ** 2\n",
    "\n",
    "if __name__ == \"__main__\":\n",
    "    # Step 3: Create a multiprocessing pool with 2 processes\n",
    "    with multiprocessing.Pool(processes=2) as pool:\n",
    "        # Step 4: Distribute tasks and collect results\n",
    "        numbers = [1, 2, 3, 4, 5]\n",
    "        results = pool.map(square, numbers)\n",
    "\n",
    "    # Step 5: Print the results\n",
    "    print(\"Squared results:\", results)\n"
   ]
  },
  {
   "cell_type": "code",
   "execution_count": null,
   "id": "90623075-a6d9-4ef8-aa78-c9fbecc4d277",
   "metadata": {},
   "outputs": [],
   "source": [
    "Q6. Write a python program to create 4 processes, each process should print a different number using the\n",
    "multiprocessing module in python."
   ]
  },
  {
   "cell_type": "code",
   "execution_count": 5,
   "id": "7b4a8f9b-0b6c-4e72-ab7a-446de4f69d86",
   "metadata": {},
   "outputs": [
    {
     "name": "stdout",
     "output_type": "stream",
     "text": [
      " Process 1:my number is 1\n",
      " Process 2:my number is 2\n",
      " Process 3:my number is 3\n",
      " Process 4:my number is 4\n",
      "All processes have finished.\n"
     ]
    }
   ],
   "source": [
    "import multiprocessing \n",
    "\n",
    "def print_number(number):\n",
    "    print(f\" Process {number}:my number is {number}\")\n",
    "    \n",
    "if __name__==\"__main__\":\n",
    "    processes=[]\n",
    "    \n",
    "    for num in range(1,5):\n",
    "        process= multiprocessing.Process(target=print_number, args=(num,))\n",
    "        processes.append(process)\n",
    "        process.start()\n",
    "\n",
    "    for process in processes:\n",
    "        process.join()\n",
    "\n",
    "    print(\"All processes have finished.\")\n",
    "    \n",
    "    \n",
    "    "
   ]
  },
  {
   "cell_type": "code",
   "execution_count": null,
   "id": "81aee195-837e-4d20-8516-147954d9d575",
   "metadata": {},
   "outputs": [],
   "source": []
  },
  {
   "cell_type": "code",
   "execution_count": null,
   "id": "56887ce4-332b-4f31-abfe-079452196144",
   "metadata": {},
   "outputs": [],
   "source": []
  }
 ],
 "metadata": {
  "kernelspec": {
   "display_name": "Python 3 (ipykernel)",
   "language": "python",
   "name": "python3"
  },
  "language_info": {
   "codemirror_mode": {
    "name": "ipython",
    "version": 3
   },
   "file_extension": ".py",
   "mimetype": "text/x-python",
   "name": "python",
   "nbconvert_exporter": "python",
   "pygments_lexer": "ipython3",
   "version": "3.10.8"
  }
 },
 "nbformat": 4,
 "nbformat_minor": 5
}
